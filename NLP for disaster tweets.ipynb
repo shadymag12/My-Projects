{
 "cells": [
  {
   "cell_type": "code",
   "execution_count": 1,
   "id": "24b0b83a",
   "metadata": {
    "_cell_guid": "b1076dfc-b9ad-4769-8c92-a6c4dae69d19",
    "_uuid": "8f2839f25d086af736a60e9eeb907d3b93b6e0e5",
    "execution": {
     "iopub.execute_input": "2022-12-23T10:58:56.512844Z",
     "iopub.status.busy": "2022-12-23T10:58:56.512387Z",
     "iopub.status.idle": "2022-12-23T10:58:57.810243Z",
     "shell.execute_reply": "2022-12-23T10:58:57.808643Z"
    },
    "papermill": {
     "duration": 1.30766,
     "end_time": "2022-12-23T10:58:57.813033",
     "exception": false,
     "start_time": "2022-12-23T10:58:56.505373",
     "status": "completed"
    },
    "tags": []
   },
   "outputs": [
    {
     "name": "stdout",
     "output_type": "stream",
     "text": [
      "/kaggle/input/nlp-getting-started/sample_submission.csv\n",
      "/kaggle/input/nlp-getting-started/train.csv\n",
      "/kaggle/input/nlp-getting-started/test.csv\n"
     ]
    }
   ],
   "source": [
    "# This Python 3 environment comes with many helpful analytics libraries installed\n",
    "# It is defined by the kaggle/python Docker image: https://github.com/kaggle/docker-python\n",
    "# For example, here's several helpful packages to load\n",
    "\n",
    "import numpy as np # linear algebra\n",
    "import pandas as pd # data processing, CSV file I/O (e.g. pd.read_csv)\n",
    "from sklearn import feature_extraction, linear_model, model_selection, preprocessing\n",
    "\n",
    "# Input data files are available in the read-only \"../input/\" directory\n",
    "# For example, running this (by clicking run or pressing Shift+Enter) will list all files under the input directory\n",
    "\n",
    "import os\n",
    "for dirname, _, filenames in os.walk('/kaggle/input'):\n",
    "    for filename in filenames:\n",
    "        print(os.path.join(dirname, filename))\n",
    "\n",
    "# You can write up to 20GB to the current directory (/kaggle/working/) that gets preserved as output when you create a version using \"Save & Run All\" \n",
    "# You can also write temporary files to /kaggle/temp/, but they won't be saved outside of the current session"
   ]
  },
  {
   "cell_type": "code",
   "execution_count": 2,
   "id": "018caa91",
   "metadata": {
    "execution": {
     "iopub.execute_input": "2022-12-23T10:58:57.824671Z",
     "iopub.status.busy": "2022-12-23T10:58:57.823242Z",
     "iopub.status.idle": "2022-12-23T10:58:57.916252Z",
     "shell.execute_reply": "2022-12-23T10:58:57.914241Z"
    },
    "papermill": {
     "duration": 0.101696,
     "end_time": "2022-12-23T10:58:57.919351",
     "exception": false,
     "start_time": "2022-12-23T10:58:57.817655",
     "status": "completed"
    },
    "tags": []
   },
   "outputs": [
    {
     "name": "stdout",
     "output_type": "stream",
     "text": [
      "<bound method DataFrame.info of          id keyword location  \\\n",
      "0         1     NaN      NaN   \n",
      "1         4     NaN      NaN   \n",
      "2         5     NaN      NaN   \n",
      "3         6     NaN      NaN   \n",
      "4         7     NaN      NaN   \n",
      "...     ...     ...      ...   \n",
      "7608  10869     NaN      NaN   \n",
      "7609  10870     NaN      NaN   \n",
      "7610  10871     NaN      NaN   \n",
      "7611  10872     NaN      NaN   \n",
      "7612  10873     NaN      NaN   \n",
      "\n",
      "                                                   text  target  \n",
      "0     Our Deeds are the Reason of this #earthquake M...       1  \n",
      "1                Forest fire near La Ronge Sask. Canada       1  \n",
      "2     All residents asked to 'shelter in place' are ...       1  \n",
      "3     13,000 people receive #wildfires evacuation or...       1  \n",
      "4     Just got sent this photo from Ruby #Alaska as ...       1  \n",
      "...                                                 ...     ...  \n",
      "7608  Two giant cranes holding a bridge collapse int...       1  \n",
      "7609  @aria_ahrary @TheTawniest The out of control w...       1  \n",
      "7610  M1.94 [01:04 UTC]?5km S of Volcano Hawaii. htt...       1  \n",
      "7611  Police investigating after an e-bike collided ...       1  \n",
      "7612  The Latest: More Homes Razed by Northern Calif...       1  \n",
      "\n",
      "[7613 rows x 5 columns]>\n",
      "   id keyword location                                               text  \\\n",
      "0   1     NaN      NaN  Our Deeds are the Reason of this #earthquake M...   \n",
      "1   4     NaN      NaN             Forest fire near La Ronge Sask. Canada   \n",
      "2   5     NaN      NaN  All residents asked to 'shelter in place' are ...   \n",
      "3   6     NaN      NaN  13,000 people receive #wildfires evacuation or...   \n",
      "4   7     NaN      NaN  Just got sent this photo from Ruby #Alaska as ...   \n",
      "\n",
      "   target  \n",
      "0       1  \n",
      "1       1  \n",
      "2       1  \n",
      "3       1  \n",
      "4       1  \n"
     ]
    }
   ],
   "source": [
    "train_df = pd.read_csv('../input/nlp-getting-started/train.csv')\n",
    "test_df = pd.read_csv('../input/nlp-getting-started/test.csv')\n",
    "print(train_df.info)\n",
    "print(train_df.head())\n",
    "\n"
   ]
  },
  {
   "cell_type": "code",
   "execution_count": 3,
   "id": "57de9ba2",
   "metadata": {
    "execution": {
     "iopub.execute_input": "2022-12-23T10:58:57.932068Z",
     "iopub.status.busy": "2022-12-23T10:58:57.931583Z",
     "iopub.status.idle": "2022-12-23T10:58:57.946236Z",
     "shell.execute_reply": "2022-12-23T10:58:57.945042Z"
    },
    "papermill": {
     "duration": 0.024206,
     "end_time": "2022-12-23T10:58:57.948639",
     "exception": false,
     "start_time": "2022-12-23T10:58:57.924433",
     "status": "completed"
    },
    "tags": []
   },
   "outputs": [
    {
     "data": {
      "text/plain": [
       "'I love fruits'"
      ]
     },
     "execution_count": 3,
     "metadata": {},
     "output_type": "execute_result"
    }
   ],
   "source": [
    "train_df[train_df[\"target\"] == 0][\"text\"].values[1]"
   ]
  },
  {
   "cell_type": "code",
   "execution_count": 4,
   "id": "fc62e94b",
   "metadata": {
    "execution": {
     "iopub.execute_input": "2022-12-23T10:58:57.959325Z",
     "iopub.status.busy": "2022-12-23T10:58:57.958854Z",
     "iopub.status.idle": "2022-12-23T10:58:57.968898Z",
     "shell.execute_reply": "2022-12-23T10:58:57.967659Z"
    },
    "papermill": {
     "duration": 0.018123,
     "end_time": "2022-12-23T10:58:57.971269",
     "exception": false,
     "start_time": "2022-12-23T10:58:57.953146",
     "status": "completed"
    },
    "tags": []
   },
   "outputs": [
    {
     "data": {
      "text/plain": [
       "'13,000 people receive #wildfires evacuation orders in California '"
      ]
     },
     "execution_count": 4,
     "metadata": {},
     "output_type": "execute_result"
    }
   ],
   "source": [
    "train_df[train_df[\"target\"] == 1][\"text\"].values[3]"
   ]
  },
  {
   "cell_type": "code",
   "execution_count": 5,
   "id": "776ff467",
   "metadata": {
    "execution": {
     "iopub.execute_input": "2022-12-23T10:58:57.983605Z",
     "iopub.status.busy": "2022-12-23T10:58:57.983073Z",
     "iopub.status.idle": "2022-12-23T10:58:57.996002Z",
     "shell.execute_reply": "2022-12-23T10:58:57.994814Z"
    },
    "papermill": {
     "duration": 0.022113,
     "end_time": "2022-12-23T10:58:57.998414",
     "exception": false,
     "start_time": "2022-12-23T10:58:57.976301",
     "status": "completed"
    },
    "tags": []
   },
   "outputs": [],
   "source": [
    "count_vectorizer = feature_extraction.text.CountVectorizer(stop_words='english',analyzer='word',ngram_range=(1,4),strip_accents=ascii,lowercase=bool)\n",
    "\n",
    "## let's get counts for the first 5 tweets in the data\n",
    "example_train_vectors = count_vectorizer.fit_transform(train_df[\"text\"][0:5])"
   ]
  },
  {
   "cell_type": "code",
   "execution_count": 6,
   "id": "10457a31",
   "metadata": {
    "execution": {
     "iopub.execute_input": "2022-12-23T10:58:58.010076Z",
     "iopub.status.busy": "2022-12-23T10:58:58.009381Z",
     "iopub.status.idle": "2022-12-23T10:58:58.016932Z",
     "shell.execute_reply": "2022-12-23T10:58:58.015835Z"
    },
    "papermill": {
     "duration": 0.017846,
     "end_time": "2022-12-23T10:58:58.020925",
     "exception": false,
     "start_time": "2022-12-23T10:58:58.003079",
     "status": "completed"
    },
    "tags": []
   },
   "outputs": [
    {
     "name": "stdout",
     "output_type": "stream",
     "text": [
      "(1, 124)\n",
      "[[0 0 0 0 0 0 0 0 0 0 0 0 1 1 0 0 0 0 0 0 1 1 1 1 1 1 1 0 0 0 0 0 0 0 0 0\n",
      "  0 0 1 0 0 0 0 0 0 0 0 0 0 0 0 0 0 0 0 0 0 0 0 0 0 0 0 0 0 0 0 0 0 0 0 0\n",
      "  0 0 0 0 0 0 0 0 0 0 1 1 1 1 0 0 0 0 0 0 0 0 0 0 0 0 0 0 0 0 0 0 0 0 0 0\n",
      "  0 0 0 0 0 0 0 0 0 0 0 0 0 0 0 0]]\n"
     ]
    }
   ],
   "source": [
    "## we use .todense() here because these vectors are \"sparse\" (only non-zero elements are kept to save space)\n",
    "print(example_train_vectors[0].todense().shape)\n",
    "print(example_train_vectors[0].todense())"
   ]
  },
  {
   "cell_type": "code",
   "execution_count": 7,
   "id": "aa94cca4",
   "metadata": {
    "execution": {
     "iopub.execute_input": "2022-12-23T10:58:58.034363Z",
     "iopub.status.busy": "2022-12-23T10:58:58.033852Z",
     "iopub.status.idle": "2022-12-23T10:58:59.063365Z",
     "shell.execute_reply": "2022-12-23T10:58:59.062085Z"
    },
    "papermill": {
     "duration": 1.040046,
     "end_time": "2022-12-23T10:58:59.066282",
     "exception": false,
     "start_time": "2022-12-23T10:58:58.026236",
     "status": "completed"
    },
    "tags": []
   },
   "outputs": [],
   "source": [
    "train_vectors = count_vectorizer.fit_transform(train_df[\"text\"])\n",
    "\n",
    "## note that we're NOT using .fit_transform() here. Using just .transform() makes sure\n",
    "# that the tokens in the train vectors are the only ones mapped to the test vectors - \n",
    "# i.e. that the train and test vectors use the same set of tokens.\n",
    "test_vectors = count_vectorizer.transform(test_df[\"text\"])"
   ]
  },
  {
   "cell_type": "code",
   "execution_count": 8,
   "id": "6f41b9e7",
   "metadata": {
    "execution": {
     "iopub.execute_input": "2022-12-23T10:58:59.078483Z",
     "iopub.status.busy": "2022-12-23T10:58:59.078071Z",
     "iopub.status.idle": "2022-12-23T10:58:59.083064Z",
     "shell.execute_reply": "2022-12-23T10:58:59.081984Z"
    },
    "papermill": {
     "duration": 0.01382,
     "end_time": "2022-12-23T10:58:59.085247",
     "exception": false,
     "start_time": "2022-12-23T10:58:59.071427",
     "status": "completed"
    },
    "tags": []
   },
   "outputs": [],
   "source": [
    "## Our vectors are really big, so we want to push our model's weights\n",
    "## toward 0 without completely discounting different words - ridge regression \n",
    "## is a good way to do this.\n",
    "clf = linear_model.RidgeClassifier(fit_intercept=bool,max_iter=200,solver='sparse_cg')"
   ]
  },
  {
   "cell_type": "code",
   "execution_count": 9,
   "id": "6936dd34",
   "metadata": {
    "execution": {
     "iopub.execute_input": "2022-12-23T10:58:59.096178Z",
     "iopub.status.busy": "2022-12-23T10:58:59.095807Z",
     "iopub.status.idle": "2022-12-23T10:59:04.221046Z",
     "shell.execute_reply": "2022-12-23T10:59:04.219591Z"
    },
    "papermill": {
     "duration": 5.135187,
     "end_time": "2022-12-23T10:59:04.225115",
     "exception": false,
     "start_time": "2022-12-23T10:58:59.089928",
     "status": "completed"
    },
    "tags": []
   },
   "outputs": [
    {
     "data": {
      "text/plain": [
       "array([0.56046065, 0.39223301, 0.43243243, 0.46972477, 0.44241316,\n",
       "       0.53084112, 0.48360656, 0.39035088, 0.65417376, 0.67814114])"
      ]
     },
     "execution_count": 9,
     "metadata": {},
     "output_type": "execute_result"
    }
   ],
   "source": [
    "scores = model_selection.cross_val_score(clf, train_vectors, train_df[\"target\"], cv=10, scoring=\"f1\")\n",
    "scores"
   ]
  },
  {
   "cell_type": "code",
   "execution_count": 10,
   "id": "735f522a",
   "metadata": {
    "execution": {
     "iopub.execute_input": "2022-12-23T10:59:04.251080Z",
     "iopub.status.busy": "2022-12-23T10:59:04.250400Z",
     "iopub.status.idle": "2022-12-23T10:59:04.823755Z",
     "shell.execute_reply": "2022-12-23T10:59:04.822220Z"
    },
    "papermill": {
     "duration": 0.591673,
     "end_time": "2022-12-23T10:59:04.828698",
     "exception": false,
     "start_time": "2022-12-23T10:59:04.237025",
     "status": "completed"
    },
    "tags": []
   },
   "outputs": [
    {
     "data": {
      "text/plain": [
       "RidgeClassifier(fit_intercept=<class 'bool'>, max_iter=200, solver='sparse_cg')"
      ]
     },
     "execution_count": 10,
     "metadata": {},
     "output_type": "execute_result"
    }
   ],
   "source": [
    "clf.fit(train_vectors, train_df[\"target\"])"
   ]
  },
  {
   "cell_type": "code",
   "execution_count": 11,
   "id": "451af270",
   "metadata": {
    "execution": {
     "iopub.execute_input": "2022-12-23T10:59:04.856098Z",
     "iopub.status.busy": "2022-12-23T10:59:04.855449Z",
     "iopub.status.idle": "2022-12-23T10:59:04.874844Z",
     "shell.execute_reply": "2022-12-23T10:59:04.873298Z"
    },
    "papermill": {
     "duration": 0.037999,
     "end_time": "2022-12-23T10:59:04.879780",
     "exception": false,
     "start_time": "2022-12-23T10:59:04.841781",
     "status": "completed"
    },
    "tags": []
   },
   "outputs": [],
   "source": [
    "sample_submission = pd.read_csv('../input/nlp-getting-started/sample_submission.csv')\n"
   ]
  },
  {
   "cell_type": "code",
   "execution_count": 12,
   "id": "3d80a1f3",
   "metadata": {
    "execution": {
     "iopub.execute_input": "2022-12-23T10:59:04.905602Z",
     "iopub.status.busy": "2022-12-23T10:59:04.904919Z",
     "iopub.status.idle": "2022-12-23T10:59:04.918038Z",
     "shell.execute_reply": "2022-12-23T10:59:04.916464Z"
    },
    "papermill": {
     "duration": 0.031264,
     "end_time": "2022-12-23T10:59:04.922796",
     "exception": false,
     "start_time": "2022-12-23T10:59:04.891532",
     "status": "completed"
    },
    "tags": []
   },
   "outputs": [],
   "source": [
    "sample_submission['target']=clf.predict(test_vectors)"
   ]
  },
  {
   "cell_type": "code",
   "execution_count": 13,
   "id": "24168bc2",
   "metadata": {
    "execution": {
     "iopub.execute_input": "2022-12-23T10:59:04.939221Z",
     "iopub.status.busy": "2022-12-23T10:59:04.938868Z",
     "iopub.status.idle": "2022-12-23T10:59:04.949156Z",
     "shell.execute_reply": "2022-12-23T10:59:04.948455Z"
    },
    "papermill": {
     "duration": 0.018066,
     "end_time": "2022-12-23T10:59:04.951104",
     "exception": false,
     "start_time": "2022-12-23T10:59:04.933038",
     "status": "completed"
    },
    "tags": []
   },
   "outputs": [
    {
     "data": {
      "text/html": [
       "<div>\n",
       "<style scoped>\n",
       "    .dataframe tbody tr th:only-of-type {\n",
       "        vertical-align: middle;\n",
       "    }\n",
       "\n",
       "    .dataframe tbody tr th {\n",
       "        vertical-align: top;\n",
       "    }\n",
       "\n",
       "    .dataframe thead th {\n",
       "        text-align: right;\n",
       "    }\n",
       "</style>\n",
       "<table border=\"1\" class=\"dataframe\">\n",
       "  <thead>\n",
       "    <tr style=\"text-align: right;\">\n",
       "      <th></th>\n",
       "      <th>id</th>\n",
       "      <th>target</th>\n",
       "    </tr>\n",
       "  </thead>\n",
       "  <tbody>\n",
       "    <tr>\n",
       "      <th>0</th>\n",
       "      <td>0</td>\n",
       "      <td>0</td>\n",
       "    </tr>\n",
       "    <tr>\n",
       "      <th>1</th>\n",
       "      <td>2</td>\n",
       "      <td>1</td>\n",
       "    </tr>\n",
       "    <tr>\n",
       "      <th>2</th>\n",
       "      <td>3</td>\n",
       "      <td>1</td>\n",
       "    </tr>\n",
       "    <tr>\n",
       "      <th>3</th>\n",
       "      <td>9</td>\n",
       "      <td>0</td>\n",
       "    </tr>\n",
       "    <tr>\n",
       "      <th>4</th>\n",
       "      <td>11</td>\n",
       "      <td>1</td>\n",
       "    </tr>\n",
       "  </tbody>\n",
       "</table>\n",
       "</div>"
      ],
      "text/plain": [
       "   id  target\n",
       "0   0       0\n",
       "1   2       1\n",
       "2   3       1\n",
       "3   9       0\n",
       "4  11       1"
      ]
     },
     "execution_count": 13,
     "metadata": {},
     "output_type": "execute_result"
    }
   ],
   "source": [
    "sample_submission.head()"
   ]
  },
  {
   "cell_type": "code",
   "execution_count": 14,
   "id": "c83f620b",
   "metadata": {
    "execution": {
     "iopub.execute_input": "2022-12-23T10:59:04.962595Z",
     "iopub.status.busy": "2022-12-23T10:59:04.961948Z",
     "iopub.status.idle": "2022-12-23T10:59:04.973025Z",
     "shell.execute_reply": "2022-12-23T10:59:04.971866Z"
    },
    "papermill": {
     "duration": 0.01952,
     "end_time": "2022-12-23T10:59:04.975547",
     "exception": false,
     "start_time": "2022-12-23T10:59:04.956027",
     "status": "completed"
    },
    "tags": []
   },
   "outputs": [],
   "source": [
    "sample_submission.to_csv(\"submission.csv\", index=False)"
   ]
  }
 ],
 "metadata": {
  "kernelspec": {
   "display_name": "Python 3",
   "language": "python",
   "name": "python3"
  },
  "language_info": {
   "codemirror_mode": {
    "name": "ipython",
    "version": 3
   },
   "file_extension": ".py",
   "mimetype": "text/x-python",
   "name": "python",
   "nbconvert_exporter": "python",
   "pygments_lexer": "ipython3",
   "version": "3.7.12"
  },
  "papermill": {
   "default_parameters": {},
   "duration": 18.198915,
   "end_time": "2022-12-23T10:59:05.701715",
   "environment_variables": {},
   "exception": null,
   "input_path": "__notebook__.ipynb",
   "output_path": "__notebook__.ipynb",
   "parameters": {},
   "start_time": "2022-12-23T10:58:47.502800",
   "version": "2.3.4"
  }
 },
 "nbformat": 4,
 "nbformat_minor": 5
}
