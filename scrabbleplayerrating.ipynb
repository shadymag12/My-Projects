{
 "cells": [
  {
   "cell_type": "code",
   "execution_count": 1,
   "id": "01a98cec",
   "metadata": {
    "_cell_guid": "b1076dfc-b9ad-4769-8c92-a6c4dae69d19",
    "_uuid": "8f2839f25d086af736a60e9eeb907d3b93b6e0e5",
    "execution": {
     "iopub.execute_input": "2022-12-23T07:42:22.739249Z",
     "iopub.status.busy": "2022-12-23T07:42:22.738721Z",
     "iopub.status.idle": "2022-12-23T07:42:23.594888Z",
     "shell.execute_reply": "2022-12-23T07:42:23.593849Z"
    },
    "papermill": {
     "duration": 0.867807,
     "end_time": "2022-12-23T07:42:23.597446",
     "exception": false,
     "start_time": "2022-12-23T07:42:22.729639",
     "status": "completed"
    },
    "tags": []
   },
   "outputs": [],
   "source": [
    "import numpy as np # linear algebra\n",
    "import pandas as pd # data processing, CSV file I/O (e.g. pd.read_csv)\n",
    "from sklearn.metrics import mean_squared_error"
   ]
  },
  {
   "cell_type": "code",
   "execution_count": 2,
   "id": "dc600e92",
   "metadata": {
    "execution": {
     "iopub.execute_input": "2022-12-23T07:42:23.611722Z",
     "iopub.status.busy": "2022-12-23T07:42:23.611332Z",
     "iopub.status.idle": "2022-12-23T07:42:23.720547Z",
     "shell.execute_reply": "2022-12-23T07:42:23.719486Z"
    },
    "papermill": {
     "duration": 0.119245,
     "end_time": "2022-12-23T07:42:23.723151",
     "exception": false,
     "start_time": "2022-12-23T07:42:23.603906",
     "status": "completed"
    },
    "tags": []
   },
   "outputs": [
    {
     "name": "stdout",
     "output_type": "stream",
     "text": [
      "   game_id        nickname  score  rating\n",
      "0        1       BetterBot    335    1637\n",
      "1        1           stevy    429    1500\n",
      "2        3       davidavid    440    1811\n",
      "3        3       BetterBot    318    2071\n",
      "4        4  Inandoutworker    119    1473\n",
      "game_id      int64\n",
      "nickname    object\n",
      "score        int64\n",
      "rating       int64\n",
      "dtype: object\n"
     ]
    }
   ],
   "source": [
    "train=pd.read_csv('../input/scrabble-player-rating/train.csv').fillna(-1)\n",
    "print(train.head())\n",
    "print(train.dtypes)"
   ]
  },
  {
   "cell_type": "code",
   "execution_count": 3,
   "id": "32966941",
   "metadata": {
    "execution": {
     "iopub.execute_input": "2022-12-23T07:42:23.736974Z",
     "iopub.status.busy": "2022-12-23T07:42:23.736642Z",
     "iopub.status.idle": "2022-12-23T07:42:23.768122Z",
     "shell.execute_reply": "2022-12-23T07:42:23.767271Z"
    },
    "papermill": {
     "duration": 0.040618,
     "end_time": "2022-12-23T07:42:23.770025",
     "exception": false,
     "start_time": "2022-12-23T07:42:23.729407",
     "status": "completed"
    },
    "tags": []
   },
   "outputs": [
    {
     "name": "stdout",
     "output_type": "stream",
     "text": [
      "             game_id          score         rating\n",
      "count  100820.000000  100820.000000  100820.000000\n",
      "mean    36367.328605     399.029022    1875.592938\n",
      "std     21020.288705      75.184778     231.791016\n",
      "min         1.000000     -64.000000    1033.000000\n",
      "25%     18139.000000     352.000000    1664.000000\n",
      "50%     36339.500000     398.000000    1907.000000\n",
      "75%     54625.000000     445.000000    2060.000000\n",
      "max     72773.000000    1132.000000    2510.000000\n"
     ]
    }
   ],
   "source": [
    "print(train.describe())"
   ]
  },
  {
   "cell_type": "code",
   "execution_count": 4,
   "id": "026c79ee",
   "metadata": {
    "execution": {
     "iopub.execute_input": "2022-12-23T07:42:23.784490Z",
     "iopub.status.busy": "2022-12-23T07:42:23.784004Z",
     "iopub.status.idle": "2022-12-23T07:42:23.794585Z",
     "shell.execute_reply": "2022-12-23T07:42:23.793663Z"
    },
    "papermill": {
     "duration": 0.020765,
     "end_time": "2022-12-23T07:42:23.797185",
     "exception": false,
     "start_time": "2022-12-23T07:42:23.776420",
     "status": "completed"
    },
    "tags": []
   },
   "outputs": [
    {
     "name": "stdout",
     "output_type": "stream",
     "text": [
      "game_id     0\n",
      "nickname    0\n",
      "score       0\n",
      "rating      0\n",
      "dtype: int64\n"
     ]
    }
   ],
   "source": [
    "print(train.isnull().sum())"
   ]
  },
  {
   "cell_type": "code",
   "execution_count": 5,
   "id": "09d3ff67",
   "metadata": {
    "execution": {
     "iopub.execute_input": "2022-12-23T07:42:23.812230Z",
     "iopub.status.busy": "2022-12-23T07:42:23.811291Z",
     "iopub.status.idle": "2022-12-23T07:42:23.816798Z",
     "shell.execute_reply": "2022-12-23T07:42:23.815287Z"
    },
    "papermill": {
     "duration": 0.014937,
     "end_time": "2022-12-23T07:42:23.818726",
     "exception": false,
     "start_time": "2022-12-23T07:42:23.803789",
     "status": "completed"
    },
    "tags": []
   },
   "outputs": [
    {
     "name": "stdout",
     "output_type": "stream",
     "text": [
      "(100820, 4)\n"
     ]
    }
   ],
   "source": [
    "print(train.shape)"
   ]
  },
  {
   "cell_type": "code",
   "execution_count": 6,
   "id": "37b59667",
   "metadata": {
    "execution": {
     "iopub.execute_input": "2022-12-23T07:42:23.835069Z",
     "iopub.status.busy": "2022-12-23T07:42:23.834683Z",
     "iopub.status.idle": "2022-12-23T07:42:23.844964Z",
     "shell.execute_reply": "2022-12-23T07:42:23.843583Z"
    },
    "papermill": {
     "duration": 0.021399,
     "end_time": "2022-12-23T07:42:23.847055",
     "exception": false,
     "start_time": "2022-12-23T07:42:23.825656",
     "status": "completed"
    },
    "tags": []
   },
   "outputs": [
    {
     "name": "stdout",
     "output_type": "stream",
     "text": [
      "game_id     0\n",
      "nickname    0\n",
      "score       0\n",
      "rating      0\n",
      "dtype: int64\n"
     ]
    }
   ],
   "source": [
    "print(train.isnull().sum())"
   ]
  },
  {
   "cell_type": "code",
   "execution_count": 7,
   "id": "aa4060b3",
   "metadata": {
    "execution": {
     "iopub.execute_input": "2022-12-23T07:42:23.862651Z",
     "iopub.status.busy": "2022-12-23T07:42:23.862276Z",
     "iopub.status.idle": "2022-12-23T07:42:23.932370Z",
     "shell.execute_reply": "2022-12-23T07:42:23.931102Z"
    },
    "papermill": {
     "duration": 0.081176,
     "end_time": "2022-12-23T07:42:23.934879",
     "exception": false,
     "start_time": "2022-12-23T07:42:23.853703",
     "status": "completed"
    },
    "tags": []
   },
   "outputs": [],
   "source": [
    "train.nickname=pd.to_numeric(train.nickname,errors='coerce')"
   ]
  },
  {
   "cell_type": "code",
   "execution_count": 8,
   "id": "e20fe253",
   "metadata": {
    "execution": {
     "iopub.execute_input": "2022-12-23T07:42:23.949820Z",
     "iopub.status.busy": "2022-12-23T07:42:23.949455Z",
     "iopub.status.idle": "2022-12-23T07:42:23.953931Z",
     "shell.execute_reply": "2022-12-23T07:42:23.952588Z"
    },
    "papermill": {
     "duration": 0.014275,
     "end_time": "2022-12-23T07:42:23.955798",
     "exception": false,
     "start_time": "2022-12-23T07:42:23.941523",
     "status": "completed"
    },
    "tags": []
   },
   "outputs": [],
   "source": [
    "#train_ohe=pd.get_dummies(train)"
   ]
  },
  {
   "cell_type": "code",
   "execution_count": 9,
   "id": "f5a0c905",
   "metadata": {
    "execution": {
     "iopub.execute_input": "2022-12-23T07:42:23.970677Z",
     "iopub.status.busy": "2022-12-23T07:42:23.970085Z",
     "iopub.status.idle": "2022-12-23T07:42:23.974760Z",
     "shell.execute_reply": "2022-12-23T07:42:23.973789Z"
    },
    "papermill": {
     "duration": 0.014217,
     "end_time": "2022-12-23T07:42:23.976647",
     "exception": false,
     "start_time": "2022-12-23T07:42:23.962430",
     "status": "completed"
    },
    "tags": []
   },
   "outputs": [],
   "source": [
    "#print(train_ohe.head(15))"
   ]
  },
  {
   "cell_type": "code",
   "execution_count": 10,
   "id": "bf4ae547",
   "metadata": {
    "execution": {
     "iopub.execute_input": "2022-12-23T07:42:23.990957Z",
     "iopub.status.busy": "2022-12-23T07:42:23.990581Z",
     "iopub.status.idle": "2022-12-23T07:42:23.995165Z",
     "shell.execute_reply": "2022-12-23T07:42:23.994136Z"
    },
    "papermill": {
     "duration": 0.013798,
     "end_time": "2022-12-23T07:42:23.996939",
     "exception": false,
     "start_time": "2022-12-23T07:42:23.983141",
     "status": "completed"
    },
    "tags": []
   },
   "outputs": [],
   "source": [
    "#print(train_ohe.shape)"
   ]
  },
  {
   "cell_type": "code",
   "execution_count": 11,
   "id": "6d28e1c6",
   "metadata": {
    "execution": {
     "iopub.execute_input": "2022-12-23T07:42:24.011436Z",
     "iopub.status.busy": "2022-12-23T07:42:24.011061Z",
     "iopub.status.idle": "2022-12-23T07:42:39.208159Z",
     "shell.execute_reply": "2022-12-23T07:42:39.206905Z"
    },
    "papermill": {
     "duration": 15.206851,
     "end_time": "2022-12-23T07:42:39.210280",
     "exception": false,
     "start_time": "2022-12-23T07:42:24.003429",
     "status": "completed"
    },
    "tags": []
   },
   "outputs": [
    {
     "data": {
      "text/plain": [
       "RandomForestRegressor(max_depth=8, n_estimators=200, random_state=42)"
      ]
     },
     "execution_count": 11,
     "metadata": {},
     "output_type": "execute_result"
    }
   ],
   "source": [
    "from sklearn.ensemble import RandomForestRegressor\n",
    "from sklearn.model_selection import train_test_split\n",
    "regr = RandomForestRegressor(max_depth=8, random_state=42,n_estimators=200)\n",
    "X= train.drop('rating',axis=1).fillna(-1)\n",
    "y=train.rating\n",
    "train_X,test_X,train_y,test_y = train_test_split(X,y,test_size=0.20,random_state=42)\n",
    "regr.fit(train_X,train_y)\n"
   ]
  },
  {
   "cell_type": "code",
   "execution_count": 12,
   "id": "8f1bd5c3",
   "metadata": {
    "execution": {
     "iopub.execute_input": "2022-12-23T07:42:39.225000Z",
     "iopub.status.busy": "2022-12-23T07:42:39.224597Z",
     "iopub.status.idle": "2022-12-23T07:42:39.485605Z",
     "shell.execute_reply": "2022-12-23T07:42:39.484527Z"
    },
    "papermill": {
     "duration": 0.271688,
     "end_time": "2022-12-23T07:42:39.488740",
     "exception": false,
     "start_time": "2022-12-23T07:42:39.217052",
     "status": "completed"
    },
    "tags": []
   },
   "outputs": [
    {
     "name": "stdout",
     "output_type": "stream",
     "text": [
      "MAE: 208.97557790296975\n"
     ]
    }
   ],
   "source": [
    "pred= regr.predict(test_X)\n",
    "print(\"MAE:\",np.sqrt(mean_squared_error(pred,test_y)))"
   ]
  },
  {
   "cell_type": "code",
   "execution_count": 13,
   "id": "0301bb57",
   "metadata": {
    "execution": {
     "iopub.execute_input": "2022-12-23T07:42:39.505117Z",
     "iopub.status.busy": "2022-12-23T07:42:39.504678Z",
     "iopub.status.idle": "2022-12-23T07:45:31.972983Z",
     "shell.execute_reply": "2022-12-23T07:45:31.972115Z"
    },
    "papermill": {
     "duration": 172.479567,
     "end_time": "2022-12-23T07:45:31.975401",
     "exception": false,
     "start_time": "2022-12-23T07:42:39.495834",
     "status": "completed"
    },
    "tags": []
   },
   "outputs": [],
   "source": [
    "from sklearn.model_selection import KFold\n",
    "kf = KFold(n_splits=4)\n",
    "train=train.reset_index()\n",
    "scores=[]\n",
    "for train_idx,test_idx in kf.split(train):\n",
    "    train_X=train.iloc[train_idx].drop('rating',axis=1).fillna(-1)\n",
    "    test_X= train.iloc[test_idx].drop('rating',axis=1).fillna(-1)\n",
    "    train_y=train.iloc[train_idx].rating\n",
    "    test_y=train.iloc[test_idx].rating\n",
    "    regr1 = RandomForestRegressor(max_depth=8, random_state=42,n_estimators=400)\n",
    "    regr1.fit(train_X,train_y)\n",
    "    pred= regr1.predict(test_X)\n",
    "    msqe=np.sqrt(mean_squared_error(test_y,pred))\n",
    "    scores.append(msqe)\n",
    "    \n",
    "    "
   ]
  },
  {
   "cell_type": "code",
   "execution_count": 14,
   "id": "63aa3817",
   "metadata": {
    "execution": {
     "iopub.execute_input": "2022-12-23T07:45:31.990535Z",
     "iopub.status.busy": "2022-12-23T07:45:31.990236Z",
     "iopub.status.idle": "2022-12-23T07:45:31.995746Z",
     "shell.execute_reply": "2022-12-23T07:45:31.994320Z"
    },
    "papermill": {
     "duration": 0.014743,
     "end_time": "2022-12-23T07:45:31.997437",
     "exception": false,
     "start_time": "2022-12-23T07:45:31.982694",
     "status": "completed"
    },
    "tags": []
   },
   "outputs": [
    {
     "name": "stdout",
     "output_type": "stream",
     "text": [
      "[215.36656851953424, 209.32735401598066, 210.309929949046, 224.7422999162212]\n"
     ]
    }
   ],
   "source": [
    "print(scores)"
   ]
  },
  {
   "cell_type": "code",
   "execution_count": 15,
   "id": "d20ea1b1",
   "metadata": {
    "execution": {
     "iopub.execute_input": "2022-12-23T07:45:32.012367Z",
     "iopub.status.busy": "2022-12-23T07:45:32.011993Z",
     "iopub.status.idle": "2022-12-23T07:45:32.051084Z",
     "shell.execute_reply": "2022-12-23T07:45:32.050249Z"
    },
    "papermill": {
     "duration": 0.049106,
     "end_time": "2022-12-23T07:45:32.053000",
     "exception": false,
     "start_time": "2022-12-23T07:45:32.003894",
     "status": "completed"
    },
    "tags": []
   },
   "outputs": [
    {
     "name": "stdout",
     "output_type": "stream",
     "text": [
      "   game_id   nickname  score  rating\n",
      "0        2      Super    488    -1.0\n",
      "1        2  BetterBot    401  2000.0\n",
      "2        7    STEEBot    377  2082.0\n",
      "3        7     Priya1    379    -1.0\n",
      "4       11    STEEBot    334  1829.0\n"
     ]
    }
   ],
   "source": [
    "check=pd.read_csv('../input/scrabble-player-rating/test.csv').fillna(-1)\n",
    "print(check.head())"
   ]
  },
  {
   "cell_type": "code",
   "execution_count": 16,
   "id": "58fe477d",
   "metadata": {
    "execution": {
     "iopub.execute_input": "2022-12-23T07:45:32.068069Z",
     "iopub.status.busy": "2022-12-23T07:45:32.067713Z",
     "iopub.status.idle": "2022-12-23T07:45:32.077140Z",
     "shell.execute_reply": "2022-12-23T07:45:32.076057Z"
    },
    "papermill": {
     "duration": 0.019436,
     "end_time": "2022-12-23T07:45:32.079344",
     "exception": false,
     "start_time": "2022-12-23T07:45:32.059908",
     "status": "completed"
    },
    "tags": []
   },
   "outputs": [
    {
     "name": "stdout",
     "output_type": "stream",
     "text": [
      "       game_id    nickname  score  rating\n",
      "0            2       Super    488    -1.0\n",
      "1            2   BetterBot    401  2000.0\n",
      "2            7     STEEBot    377  2082.0\n",
      "3            7      Priya1    379    -1.0\n",
      "4           11     STEEBot    334  1829.0\n",
      "...        ...         ...    ...     ...\n",
      "44721    72762   kyjo55555    367    -1.0\n",
      "44722    72768    HastyBot    524  2356.0\n",
      "44723    72768  Maximilian    357    -1.0\n",
      "44724    72769     STEEBot    626  2110.0\n",
      "44725    72769    browndav    384    -1.0\n",
      "\n",
      "[44726 rows x 4 columns]\n"
     ]
    }
   ],
   "source": [
    "print(check)"
   ]
  },
  {
   "cell_type": "code",
   "execution_count": 17,
   "id": "a8d0d823",
   "metadata": {
    "execution": {
     "iopub.execute_input": "2022-12-23T07:45:32.095339Z",
     "iopub.status.busy": "2022-12-23T07:45:32.094580Z",
     "iopub.status.idle": "2022-12-23T07:45:32.100790Z",
     "shell.execute_reply": "2022-12-23T07:45:32.100124Z"
    },
    "papermill": {
     "duration": 0.016077,
     "end_time": "2022-12-23T07:45:32.102630",
     "exception": false,
     "start_time": "2022-12-23T07:45:32.086553",
     "status": "completed"
    },
    "tags": []
   },
   "outputs": [
    {
     "name": "stdout",
     "output_type": "stream",
     "text": [
      "game_id       int64\n",
      "nickname     object\n",
      "score         int64\n",
      "rating      float64\n",
      "dtype: object\n"
     ]
    }
   ],
   "source": [
    "print(check.dtypes)"
   ]
  },
  {
   "cell_type": "code",
   "execution_count": 18,
   "id": "5530ecd0",
   "metadata": {
    "execution": {
     "iopub.execute_input": "2022-12-23T07:45:32.117585Z",
     "iopub.status.busy": "2022-12-23T07:45:32.117253Z",
     "iopub.status.idle": "2022-12-23T07:45:32.143408Z",
     "shell.execute_reply": "2022-12-23T07:45:32.142439Z"
    },
    "papermill": {
     "duration": 0.036191,
     "end_time": "2022-12-23T07:45:32.145539",
     "exception": false,
     "start_time": "2022-12-23T07:45:32.109348",
     "status": "completed"
    },
    "tags": []
   },
   "outputs": [],
   "source": [
    "X_check=check[~(check['nickname'].str.contains(\"Bot\"))]"
   ]
  },
  {
   "cell_type": "code",
   "execution_count": 19,
   "id": "13e0970b",
   "metadata": {
    "execution": {
     "iopub.execute_input": "2022-12-23T07:45:32.160550Z",
     "iopub.status.busy": "2022-12-23T07:45:32.160119Z",
     "iopub.status.idle": "2022-12-23T07:45:32.164817Z",
     "shell.execute_reply": "2022-12-23T07:45:32.163995Z"
    },
    "papermill": {
     "duration": 0.014493,
     "end_time": "2022-12-23T07:45:32.166884",
     "exception": false,
     "start_time": "2022-12-23T07:45:32.152391",
     "status": "completed"
    },
    "tags": []
   },
   "outputs": [
    {
     "name": "stdout",
     "output_type": "stream",
     "text": [
      "(22363, 4)\n"
     ]
    }
   ],
   "source": [
    "print(X_check.shape)"
   ]
  },
  {
   "cell_type": "code",
   "execution_count": 20,
   "id": "674e62a2",
   "metadata": {
    "execution": {
     "iopub.execute_input": "2022-12-23T07:45:32.182299Z",
     "iopub.status.busy": "2022-12-23T07:45:32.181890Z",
     "iopub.status.idle": "2022-12-23T07:45:32.190342Z",
     "shell.execute_reply": "2022-12-23T07:45:32.189187Z"
    },
    "papermill": {
     "duration": 0.018688,
     "end_time": "2022-12-23T07:45:32.192591",
     "exception": false,
     "start_time": "2022-12-23T07:45:32.173903",
     "status": "completed"
    },
    "tags": []
   },
   "outputs": [
    {
     "name": "stdout",
     "output_type": "stream",
     "text": [
      "game_id     0\n",
      "nickname    0\n",
      "score       0\n",
      "rating      0\n",
      "dtype: int64\n"
     ]
    }
   ],
   "source": [
    "print(X_check.isnull().sum())"
   ]
  },
  {
   "cell_type": "code",
   "execution_count": 21,
   "id": "48144ea5",
   "metadata": {
    "execution": {
     "iopub.execute_input": "2022-12-23T07:45:32.208933Z",
     "iopub.status.busy": "2022-12-23T07:45:32.208561Z",
     "iopub.status.idle": "2022-12-23T07:45:32.216603Z",
     "shell.execute_reply": "2022-12-23T07:45:32.215324Z"
    },
    "papermill": {
     "duration": 0.018197,
     "end_time": "2022-12-23T07:45:32.218419",
     "exception": false,
     "start_time": "2022-12-23T07:45:32.200222",
     "status": "completed"
    },
    "tags": []
   },
   "outputs": [
    {
     "name": "stdout",
     "output_type": "stream",
     "text": [
      "    game_id       nickname  score  rating\n",
      "0         2          Super    488    -1.0\n",
      "3         7         Priya1    379    -1.0\n",
      "5        11     TileRunner    462    -1.0\n",
      "7        14     Anfield223    359    -1.0\n",
      "8        27     friesbasil    456    -1.0\n",
      "10       28       Eloquent    482    -1.0\n",
      "13       32          Super    420    -1.0\n",
      "14       40       eugenius    399    -1.0\n",
      "16       41         marvin    295    -1.0\n",
      "19       44       jlevedit    288    -1.0\n",
      "20       55          urppp    448    -1.0\n",
      "23       57          Jaish    296    -1.0\n",
      "24       60   hannahbanana    373    -1.0\n",
      "26       61  peperomartini    454    -1.0\n",
      "28       62         Menonr    384    -1.0\n"
     ]
    }
   ],
   "source": [
    "print(X_check.head(15))"
   ]
  },
  {
   "cell_type": "code",
   "execution_count": 22,
   "id": "e2f2bc7b",
   "metadata": {
    "execution": {
     "iopub.execute_input": "2022-12-23T07:45:32.233725Z",
     "iopub.status.busy": "2022-12-23T07:45:32.233363Z",
     "iopub.status.idle": "2022-12-23T07:45:32.238829Z",
     "shell.execute_reply": "2022-12-23T07:45:32.238002Z"
    },
    "papermill": {
     "duration": 0.015431,
     "end_time": "2022-12-23T07:45:32.240676",
     "exception": false,
     "start_time": "2022-12-23T07:45:32.225245",
     "status": "completed"
    },
    "tags": []
   },
   "outputs": [],
   "source": [
    "X_check=X_check.drop('rating',axis=1)"
   ]
  },
  {
   "cell_type": "code",
   "execution_count": 23,
   "id": "ab1ca966",
   "metadata": {
    "execution": {
     "iopub.execute_input": "2022-12-23T07:45:32.256513Z",
     "iopub.status.busy": "2022-12-23T07:45:32.256202Z",
     "iopub.status.idle": "2022-12-23T07:45:32.276162Z",
     "shell.execute_reply": "2022-12-23T07:45:32.275118Z"
    },
    "papermill": {
     "duration": 0.03004,
     "end_time": "2022-12-23T07:45:32.278058",
     "exception": false,
     "start_time": "2022-12-23T07:45:32.248018",
     "status": "completed"
    },
    "tags": []
   },
   "outputs": [],
   "source": [
    "X_check.nickname=pd.to_numeric(X_check.nickname,errors='coerce').fillna(-1)"
   ]
  },
  {
   "cell_type": "code",
   "execution_count": 24,
   "id": "7fc33ba0",
   "metadata": {
    "execution": {
     "iopub.execute_input": "2022-12-23T07:45:32.293629Z",
     "iopub.status.busy": "2022-12-23T07:45:32.293253Z",
     "iopub.status.idle": "2022-12-23T07:45:32.302456Z",
     "shell.execute_reply": "2022-12-23T07:45:32.301588Z"
    },
    "papermill": {
     "duration": 0.019495,
     "end_time": "2022-12-23T07:45:32.304677",
     "exception": false,
     "start_time": "2022-12-23T07:45:32.285182",
     "status": "completed"
    },
    "tags": []
   },
   "outputs": [
    {
     "data": {
      "text/plain": [
       "game_id       int64\n",
       "nickname    float64\n",
       "score         int64\n",
       "dtype: object"
      ]
     },
     "execution_count": 24,
     "metadata": {},
     "output_type": "execute_result"
    }
   ],
   "source": [
    "X_check.dtypes"
   ]
  },
  {
   "cell_type": "code",
   "execution_count": 25,
   "id": "e6188c3e",
   "metadata": {
    "execution": {
     "iopub.execute_input": "2022-12-23T07:45:32.321554Z",
     "iopub.status.busy": "2022-12-23T07:45:32.320366Z",
     "iopub.status.idle": "2022-12-23T07:45:32.324727Z",
     "shell.execute_reply": "2022-12-23T07:45:32.324120Z"
    },
    "papermill": {
     "duration": 0.014582,
     "end_time": "2022-12-23T07:45:32.326923",
     "exception": false,
     "start_time": "2022-12-23T07:45:32.312341",
     "status": "completed"
    },
    "tags": []
   },
   "outputs": [],
   "source": [
    "#X_check_ohe=pd.get_dummies(X_check)"
   ]
  },
  {
   "cell_type": "code",
   "execution_count": 26,
   "id": "62b2523e",
   "metadata": {
    "execution": {
     "iopub.execute_input": "2022-12-23T07:45:32.344020Z",
     "iopub.status.busy": "2022-12-23T07:45:32.342715Z",
     "iopub.status.idle": "2022-12-23T07:45:32.608300Z",
     "shell.execute_reply": "2022-12-23T07:45:32.607009Z"
    },
    "papermill": {
     "duration": 0.275982,
     "end_time": "2022-12-23T07:45:32.610495",
     "exception": false,
     "start_time": "2022-12-23T07:45:32.334513",
     "status": "completed"
    },
    "tags": []
   },
   "outputs": [],
   "source": [
    "predict= regr.predict(X_check)"
   ]
  },
  {
   "cell_type": "code",
   "execution_count": 27,
   "id": "2158184f",
   "metadata": {
    "execution": {
     "iopub.execute_input": "2022-12-23T07:45:32.626779Z",
     "iopub.status.busy": "2022-12-23T07:45:32.625876Z",
     "iopub.status.idle": "2022-12-23T07:45:32.632245Z",
     "shell.execute_reply": "2022-12-23T07:45:32.631199Z"
    },
    "papermill": {
     "duration": 0.016889,
     "end_time": "2022-12-23T07:45:32.634666",
     "exception": false,
     "start_time": "2022-12-23T07:45:32.617777",
     "status": "completed"
    },
    "tags": []
   },
   "outputs": [],
   "source": [
    "output=pd.DataFrame({'game_id':X_check.game_id,'rating':predict.astype(int)})"
   ]
  },
  {
   "cell_type": "code",
   "execution_count": 28,
   "id": "84509d4f",
   "metadata": {
    "execution": {
     "iopub.execute_input": "2022-12-23T07:45:32.650895Z",
     "iopub.status.busy": "2022-12-23T07:45:32.650526Z",
     "iopub.status.idle": "2022-12-23T07:45:32.659086Z",
     "shell.execute_reply": "2022-12-23T07:45:32.657452Z"
    },
    "papermill": {
     "duration": 0.020458,
     "end_time": "2022-12-23T07:45:32.662489",
     "exception": false,
     "start_time": "2022-12-23T07:45:32.642031",
     "status": "completed"
    },
    "tags": []
   },
   "outputs": [
    {
     "name": "stdout",
     "output_type": "stream",
     "text": [
      "   game_id  rating\n",
      "0        2    1936\n",
      "3        7    1929\n",
      "5       11    1928\n",
      "7       14    1766\n",
      "8       27    1998\n"
     ]
    }
   ],
   "source": [
    "print(output.head())"
   ]
  },
  {
   "cell_type": "code",
   "execution_count": 29,
   "id": "38a46282",
   "metadata": {
    "execution": {
     "iopub.execute_input": "2022-12-23T07:45:32.679725Z",
     "iopub.status.busy": "2022-12-23T07:45:32.679398Z",
     "iopub.status.idle": "2022-12-23T07:45:32.706937Z",
     "shell.execute_reply": "2022-12-23T07:45:32.705531Z"
    },
    "papermill": {
     "duration": 0.038487,
     "end_time": "2022-12-23T07:45:32.709249",
     "exception": false,
     "start_time": "2022-12-23T07:45:32.670762",
     "status": "completed"
    },
    "tags": []
   },
   "outputs": [],
   "source": [
    "output.to_csv('submission.csv',index=False)"
   ]
  }
 ],
 "metadata": {
  "kernelspec": {
   "display_name": "Python 3",
   "language": "python",
   "name": "python3"
  },
  "language_info": {
   "codemirror_mode": {
    "name": "ipython",
    "version": 3
   },
   "file_extension": ".py",
   "mimetype": "text/x-python",
   "name": "python",
   "nbconvert_exporter": "python",
   "pygments_lexer": "ipython3",
   "version": "3.7.12"
  },
  "papermill": {
   "default_parameters": {},
   "duration": 197.759703,
   "end_time": "2022-12-23T07:45:33.438732",
   "environment_variables": {},
   "exception": null,
   "input_path": "__notebook__.ipynb",
   "output_path": "__notebook__.ipynb",
   "parameters": {},
   "start_time": "2022-12-23T07:42:15.679029",
   "version": "2.3.4"
  }
 },
 "nbformat": 4,
 "nbformat_minor": 5
}
